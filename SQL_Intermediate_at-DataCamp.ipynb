{
 "cells": [
  {
   "cell_type": "markdown",
   "metadata": {},
   "source": [
    "# Intermediate SQL"
   ]
  },
  {
   "cell_type": "markdown",
   "metadata": {},
   "source": [
    "## CASE statements\n",
    "Contains a WHEN, THEN, and ELSE statement, finished with END\n",
    "```SQL\n",
    " CASE WHEN x = 1 THEN \"a\" \n",
    "     WHEN x = 2 THEN \"b\"\n",
    "     ELSE \"c\" END AS new_column\n",
    "```"
   ]
  },
  {
   "cell_type": "markdown",
   "metadata": {},
   "source": [
    "### Basic CASE statements\n",
    "The European Soccer Database contains data about matches from 11 European countries from the 2011-2015 match seasons. In total, you will be working with data from 12,800 matches!\n",
    "\n",
    "You'll notice that in the match table, there are two columns called `hometeam_id` and `awayteam_id`. Both ID's can join to the teamapiid column in the team table, but you cannot perform a join on both columns at the same time.\n",
    "\n",
    "You can use a CASE statement to identify which teams played in a match. However, your first step is to determine which IDs correspond to the FC Schalke 04 and FC Bayern Munich teams by querying the team table. You will then use these IDs to examine matches played by these teams in the match table."
   ]
  },
  {
   "cell_type": "markdown",
   "metadata": {},
   "source": [
    "**match**\n",
    "\n",
    "`\n",
    "id\tcountry_id\tseason\tstage\tdate\thometeam_id\tawayteam_id\thome_goal\taway_goal\n",
    "757 \t 1\t     2011/2012\t 1\t2011-07-29\t1773\t     8635\t       2\t          1\n",
    "758\t  1\t     2011/2012\t 1\t2011-07-30\t9998\t     9985\t       1\t          1\n",
    "759\t  1    \t 2011/2012\t 1\t2011-07-30\t9987\t     9993\t       3\t          1`\n",
    "\n",
    "\n",
    "**team**\n",
    "\n",
    "`\n",
    "id\tteam_api_id\tteam_long_name\tteam_short_name\n",
    "1\t  9987\t        KRC Genk\t         GEN\n",
    "2\t  9993\t        Beerschot AC\t     BAC\n",
    "3\t  10000\t       SV Zulte-Waregem\t ZUL\n",
    "`"
   ]
  },
  {
   "cell_type": "markdown",
   "metadata": {},
   "source": [
    "   **Instructions**\n",
    "   \n",
    "**1.1**- Create a query that gives you the team IDs for FC Schalke 04 and FC Bayern Munich.\n",
    "\n",
    "```SQL\n",
    "SELECT\n",
    "\t-- Select the team long name and team API id\n",
    "\tteam_long_name, team_api_id\n",
    "\t\n",
    "FROM team \n",
    "-- Only include FC Schalke 04 and FC Bayern Munich\n",
    "WHERE team_long_name IN ('FC Schalke 04', 'FC Bayern Munich');\n",
    "\n",
    "```\n",
    "`#OUTPUT\n",
    "team_long_name\t      team_api_id\n",
    "FC Bayern Munich\t     9823\n",
    "FC Schalke 04\t        10189`\n",
    "\n",
    "\n",
    "\n",
    "\n",
    "\n",
    "**2.1** Create a CASE statement that identifies whether a match played in Germany included Bayern Munich, Schalke 04, or neither.<br>\n",
    "**2.2** .Count the id column to determine the number of matches played by each team.<br>\n",
    "**2.3** Group the query by the CASE statement.\n",
    "\n",
    "\n",
    "```SQL\n",
    "-- Identify if a match included Bayern Munich, Schalke 04, or neither\n",
    "SELECT \n",
    "\tCASE WHEN hometeam_id = 10189 OR awayteam_id = 10189 THEN 'FC Schalke 04'\n",
    "        WHEN  hometeam_id = 9823  OR awayteam_id = 9823 THEN 'FC Bayern Munich'\n",
    "         ELSE 'Other' END AS team_name,\n",
    "\tCOUNT(id) AS matches\n",
    "FROM match\n",
    "WHERE country_id = 7809\n",
    "-- Group by the CASE statement\n",
    "GROUP BY  \n",
    "\tCASE WHEN hometeam_id = 10189 OR awayteam_id = 10189 THEN 'FC Schalke 04'\n",
    "        WHEN  hometeam_id = 9823  OR awayteam_id = 9823 THEN 'FC Bayern Munich'\n",
    "         ELSE 'Other' END\n",
    "```\n",
    "`OUTPUT\n",
    "team_name\t          matches\n",
    "Other\t                960\n",
    "FC Schalke 04\t        136\n",
    "FC Bayern Munich     \t128`\n"
   ]
  },
  {
   "cell_type": "markdown",
   "metadata": {},
   "source": [
    "### CASE statements comparing column values\n",
    "\n",
    "Querying a list of all matches in the 2011/2012 season where Barcelona was the home team. You will do this using a CASE statement that compares the values of two columns to create a new group -- wins, losses, and ties. The match table contains two columns -- home team ID, and away team ID, to join with the team table. Since you can only join team to one column at a time, you will create two queries in this and the next exercise to examine Barcelona's performance.\n",
    "\n",
    "```SQL\n",
    "SELECT m.date, t.team_long_name AS opponent\n",
    "    CASE WHEN m.home_goal >  m.away_goal THEN 'Barcelone Win'\n",
    "         WHEN m.home_goal < m.away_goal THEN 'Barcelona Loss :('\n",
    "         ELSE 'Tie' END AS outcome\n",
    "\n",
    "FROM match AS m\n",
    "LEFT JOIN team AS t\n",
    "ON m.awayteam_id = t.team_api_id\n",
    "-- Filter for 2012/2013 and Barcelona as the home team\n",
    "WHERE m.season = '2011/2012' AND m.hometeam_id = 8634\n",
    "-- Order by the date, with most recent first\n",
    "ORDER BY m.date ASC; \n",
    "\n",
    "```\n",
    "`OUTPUT\n",
    "2012-04-10\tGetafe CF\t Barcelona win!\n",
    "2012-04-21\tReal Madrid   CFBarcelona loss :(\n",
    "2012-05-02\tMálaga CF\t Barcelona win!\n",
    "2012-05-05\tRCD           Espanyol\t`\n",
    "\n",
    "\n"
   ]
  },
  {
   "cell_type": "markdown",
   "metadata": {},
   "source": [
    "```SQL\n",
    "-- Select matches where Barcelona was the away team\n",
    "SELECT  \n",
    "\tm.date,\n",
    "\tt.team_long_name AS opponent,\n",
    "\tCASE WHEN m.home_goal < m.away_goal THEN 'Barcelona win!'\n",
    "         WHEN m.home_goal > m.away_goal THEN 'Barcelona loss :(' \n",
    "         ELSE 'Tie' END AS outcome\n",
    "FROM match AS m\n",
    "-- Join the team table to match\n",
    "LEFT JOIN team AS t ON m.hometeam_id = t.team_api_id\n",
    "WHERE  m.season = '2011/2012' AND m.awayteam_id = 8634\n",
    "ORDER BY m.date;\n",
    "```\n",
    "`OUTPUT\n",
    "2011-09-10\tReal Sociedad\t             Tie\n",
    "2011-09-21\tValencia CF\t               Tie\n",
    "2011-10-02\tReal Sporting de Gijón\t    Barcelona win!`"
   ]
  },
  {
   "cell_type": "markdown",
   "metadata": {},
   "source": [
    "### CASE WHEN things to look out for\n",
    "Barcelona and Real Madrid have been rival teams for more than 80 years. Matches between these two teams are given the name El Clásico (The Classic). In this exercise, you will query a list of matches played between these two rivals.\n",
    "\n",
    "\n",
    "```SQL\n",
    "SELECT \n",
    "\tdate,\n",
    "\tCASE WHEN hometeam_id = 8634 THEN 'FC Barcelona' \n",
    "         ELSE 'Real Madrid CF' END as home,\n",
    "\tCASE WHEN awayteam_id = 8634 THEN 'FC Barcelona' \n",
    "         ELSE 'Real Madrid CF' END as away,\n",
    "\t-- Identify all 5 possible match outcomes\n",
    "\tCASE WHEN home_goal > away_goal AND hometeam_id = 8634 THEN 'Barcelona win!'\n",
    "          WHEN home_goal > away_goal AND hometeam_id = 8633 THEN 'Real Madrid win!'\n",
    "          WHEN home_goal < away_goal AND awayteam_id = 8634 THEN 'Barcelona win!'\n",
    "          WHEN home_goal < away_goal AND awayteam_id = 8633 THEN 'Real Madrid win!'\n",
    "          ELSE 'Tie!' END AS outcome\n",
    "FROM match\n",
    "WHERE (awayteam_id = 8634 OR hometeam_id = 8634)\n",
    "      AND (awayteam_id = 8633 OR hometeam_id = 8633);\n",
    "```\n",
    "`OUTPUT\n",
    "date\t      home\t           away\t          outcome\n",
    "2011-12-10\tReal Madrid CF\tFC Barcelona\t  Barcelona win!\n",
    "2012-04-21\tFC Barcelona\t  Real Madrid CF\tReal Madrid win!\n",
    "2013-03-02\tReal Madrid CF\tFC Barcelona\t  Real Madrid win!\n",
    "2012-10-07\tFC Barcelona\t  Real Madrid CF\tTie!`"
   ]
  },
  {
   "cell_type": "markdown",
   "metadata": {},
   "source": []
  }
 ],
 "metadata": {
  "kernelspec": {
   "display_name": "Python 3",
   "language": "python",
   "name": "python3"
  },
  "language_info": {
   "codemirror_mode": {
    "name": "ipython",
    "version": 3
   },
   "file_extension": ".py",
   "mimetype": "text/x-python",
   "name": "python",
   "nbconvert_exporter": "python",
   "pygments_lexer": "ipython3",
   "version": "3.7.0"
  }
 },
 "nbformat": 4,
 "nbformat_minor": 2
}
