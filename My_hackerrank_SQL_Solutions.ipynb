{
 "cells": [
  {
   "cell_type": "markdown",
   "metadata": {},
   "source": [
    "# Sql Practice on hackerrank\n",
    "\n",
    "My Profile on hackerrank : https://www.hackerrank.com/ayse_2998?hr_r=1"
   ]
  },
  {
   "cell_type": "markdown",
   "metadata": {},
   "source": [
    "## CITY TABLE\n",
    "\n",
    "| Field | Type |\n",
    "| --- | --- | \n",
    "| ID| NUMBER|\n",
    "|NAME |VARCHAR(17)|\n",
    "| COUNTRYCODE | VarChar(2)|\n",
    "|DISTRICT|VARCHAR2(20)|\n",
    "|POPULATION|NUMER|\n"
   ]
  },
  {
   "cell_type": "markdown",
   "metadata": {},
   "source": [
    "**Query I: Query all columns for all American cities in CITY with populations larger than 100000. The CountryCode for America is USA**\n",
    "\n",
    "`SOLUTION`\n",
    "```SQL\n",
    "SELECT *\n",
    "FROM CITY\n",
    "WHERE COUNTRYCODE = 'USA'\n",
    "AND POPULATION >100000;\n",
    "```\n",
    "```python\n",
    "#Output\n",
    "3878 Scottsdale USA Arizona 202705 \n",
    "3965 Corona USA California 124966 \n",
    "3973 Concord USA California 121780 \n",
    "3977 Cedar Rapids USA Iowa 120758 \n",
    "3982 Coral Springs USA Florida 117549 \n",
    "\n",
    "```\n"
   ]
  },
  {
   "cell_type": "markdown",
   "metadata": {},
   "source": [
    "**Query II: Query the names of all American cities in CITY with populations larger than 120000. The CountryCode for America is USA.**\n",
    "\n",
    "`SOLUTION`\n",
    "```SQL\n",
    "SELECT NAME\n",
    "FROM CITY\n",
    "WHERE COUNTRYCODE ='USA'\n",
    "AND  POPULATION > 120000\n",
    "```\n",
    "```python\n",
    "#OUTPUT\n",
    "Scottsdale\n",
    "Corona\n",
    "Concord\n",
    "Cedar Rapids\n",
    "```"
   ]
  },
  {
   "cell_type": "markdown",
   "metadata": {},
   "source": [
    "**Query III : Query all attributes of every Japanese city in the CITY table. The COUNTRYCODE for Japan is JPN.**\n",
    "\n",
    "`SOLUTION`\n",
    "```SQL\n",
    "SELECT *\n",
    "FROM CITY\n",
    "WHERE COUNTRYCODE ='JPN'\n",
    "```\n",
    "```python\n",
    "#OUTPUT\n",
    "1613 Neyagawa JPN Osaka 257315 \n",
    "1630 Ageo JPN Saitama 209442 \n",
    "1661 Sayama JPN Saitama 162472 \n",
    "1681 Omuta JPN Fukuoka 142889 \n",
    "1739 Tokuyama JPN Yamaguchi 107078\n",
    "```"
   ]
  },
  {
   "cell_type": "markdown",
   "metadata": {},
   "source": [
    "## STATION TABLE\n",
    "|Field|Type|\n",
    "|---|---|\n",
    "|ID|NUMBER|\n",
    "|CITY|VARCHAR2(21)|\n",
    "|STATE|VARCHAR2(2)|\n",
    "|LAT_N|NUMBER|\n",
    "|LONG_W|NUMBER|\n",
    "*where LAT_N is the northern latitude and LONG_W is the western longitude*"
   ]
  },
  {
   "cell_type": "markdown",
   "metadata": {},
   "source": [
    "**QUERY 1 : Query a list of CITY and STATE from the STATION table.**\n",
    "`SOLUTION`\n",
    "\n",
    "```SQL\n",
    "SELECT CITY, STATE\n",
    "FROM STATION;\n",
    "```\n",
    "```python\n",
    "#OUTPUT\n",
    "Kissee Mills MO \n",
    "Loma Mar CA \n",
    "Sandy Hook CT \n",
    "Tipton IN \n",
    "Arlington CO \n",
    "Turner AR \n",
    "Slidell LA \n",
    "Negreet LA \n",
    "Glencoe KY \n",
    "Chelsea IA \n",
    ".......\n",
    "\n",
    "```"
   ]
  },
  {
   "cell_type": "markdown",
   "metadata": {},
   "source": [
    "**QUERY 2: Query a list of CITY names from STATION with even ID numbers only. You may print the results in any order, but must exclude duplicates from your answer.**\n",
    "\n",
    "`SOLUTION`\n",
    "```SQL\n",
    "SELECT DISTINCT CITY \n",
    "FROM STATION\n",
    "WHERE (ID %2 ) =0\n",
    "```\n",
    "```python\n",
    "#OUTPUT\n",
    "Kissee Mills \n",
    "Loma Mar \n",
    "Tipton \n",
    "Glencoe \n",
    "Chignik Lagoon \n",
    ".....\n",
    "\n",
    "```"
   ]
  },
  {
   "cell_type": "markdown",
   "metadata": {},
   "source": [
    "**QUERY 3: Let  `N` be the number of `CITY `entries in `STATION`, and let `N1` be the number of distinct CITY names in STATION; query the value` N- N1` of  from STATION. In other words, find the difference between the total number of CITY entries in the table and the number of distinct CITY entries in the table.**\n",
    "\n",
    "`SOLUTION`\n",
    "```SQL\n",
    "SELECT (COUNT(CITY) - COUNT(DISTINCT  CITY))\n",
    "FROM STATION\n",
    "```\n",
    "```python\n",
    "#OUTPUT\n",
    "13\n",
    "```\n",
    "\n"
   ]
  },
  {
   "cell_type": "markdown",
   "metadata": {},
   "source": [
    "#### QUERY 4 : Query the two cities in `STATION` with the shortest and longest CITY names, as well as their respective lengths (i.e.: number of characters in the name). If there is more than one smallest or largest city, choose the one that comes first when ordered alphabetically.\n",
    "\n",
    "`SOLUTION`\n",
    "```SQL\n",
    "\n",
    "SELECT CITY, LENGTH(CITY)\n",
    "FROM STATION\n",
    "ORDER BY  LENGTH(CITY), CITY\n",
    "LIMIT 1;\n",
    "SELECT CITY,  LENGTH(CITY)\n",
    "FROM STATION\n",
    "ORDER BY  LENGTH(CITY) DESC, CITY\n",
    "LIMIT 1;\n",
    "```\n",
    "```python\n",
    "#OUTPUT\n",
    "Amo 3 \n",
    "Marine On Saint Croix 21 \n",
    "```"
   ]
  },
  {
   "cell_type": "markdown",
   "metadata": {},
   "source": [
    "**QUERY 5: Query the list of CITY names `starting with vowels` (i.e., a, e, i, o, or u) from STATION. Your result cannot contain duplicates.**\n",
    "`SOLUTION`\n",
    "```SQL\n",
    "SELECT DISTINCT CITY\n",
    "FROM STATION\n",
    "WHERE CITY REGEXP '^[aeiou]'\n",
    "```\n",
    "```python\n",
    "Arlington \n",
    "Albany \n",
    "Upperco \n",
    "Aguanga \n",
    "Odin \n",
    "East China \n",
    "Algonac \n",
    "Onaway \n",
    "Irvington \n",
    ".......\n",
    "```\n"
   ]
  },
  {
   "cell_type": "markdown",
   "metadata": {},
   "source": [
    "**QUERY 6: Query the list of CITY names `ending with vowels` (a, e, i, o, u) from STATION. Your result cannot contain duplicates.**\n",
    "`SOLUTION`\n",
    "```SQL\n",
    "SELECT DISTINCT CITY FROM STATION\n",
    "WHERE CITY REGEXP '[aeiou]$';\n",
    "```\n",
    "OR\n",
    "\n",
    "```SQL\n",
    "SELECT DISTINCT CITY FROM STATION\n",
    "WHERE RIGHT(CITY, 1) IN ('a','e','i','o','u');\n",
    "```\n",
    "```python\n",
    "Glencoe \n",
    "Chelsea \n",
    "Pelahatchie \n",
    "Dorrance \n",
    "Cahone \n",
    "Upperco  \n",
    ".........\n",
    "```"
   ]
  },
  {
   "cell_type": "markdown",
   "metadata": {},
   "source": [
    "**QUERY 7: Query the list of CITY names from STATION which have vowels (i.e., a, e, i, o, and u) as both their first and last characters. Your result cannot contain duplicates.**\n",
    "`SOLUTION`\n",
    "```SQL\n",
    "SELECT DISTINCT CITY from STATION\n",
    "WHERE LEFT(CITY,1) IN ('a','e','i','o','u') \n",
    "AND RIGHT(CITY, 1) IN ('a','e','i','o','u');\n",
    "\n",
    "```\n",
    "OR\n",
    "```SQL\n",
    "SELECT DISTINCT CITY from STATION\n",
    "WHERE CITY REGEXP '^[aeiou]'\n",
    "AND CITY REGEXP '[aeiou]$'\n",
    "```\n",
    "```python\n",
    "#OUTPUT\n",
    "Upperco \n",
    "Aguanga \n",
    "East China \n",
    "East Irvine \n",
    "Amo \n",
    "Eleele \n",
    "Oconee \n",
    "........\n",
    "```"
   ]
  },
  {
   "cell_type": "markdown",
   "metadata": {},
   "source": [
    "**QUERY 8: Query the list of CITY names from STATION that do not start with vowels. Your result cannot contain duplicates.**\n",
    "\n",
    "`SOLUTION`\n",
    "```SQL\n",
    "SELECT DISTINCT CITY\n",
    "FROM  STATION\n",
    "WHERE CITY REGEXP '^[^aeiou]';\n",
    "```\n",
    "```python\n",
    "#OUTPUT\n",
    "Kissee Mills \n",
    "Loma Mar \n",
    "Sandy Hook \n",
    "Tipton \n",
    "Turner \n",
    ".....\n",
    "\n",
    "```\n",
    "\n",
    "\n"
   ]
  },
  {
   "cell_type": "markdown",
   "metadata": {},
   "source": [
    "#### QUERY 9: Query the list of CITY names from STATION that do not end with vowels. Your result cannot contain duplicates.\n",
    "\n",
    "`SOLUTION`\n",
    "```SQL\n",
    "SELECT DISTINCT CITY\n",
    "FROM STATION\n",
    "WHERE CITY NOT REGEXP '[aeiou]$'\n",
    "```\n",
    "```python\n",
    "#OUTPUT\n",
    "Kissee Mills \n",
    "Loma Mar \n",
    "Sandy Hook \n",
    "Tipton \n",
    "Arlington \n",
    "Turner \n",
    "......\n",
    "```\n"
   ]
  },
  {
   "cell_type": "markdown",
   "metadata": {},
   "source": [
    "## PROJECT TABLE\n",
    "You are given a table, Projects, containing three columns: Task_ID, Start_Date and End_Date. It is guaranteed that the difference between the End_Date and the Start_Date is equal to 1 day for each row in the table.\n",
    "    \n",
    "|Column|Type|\n",
    "|---|---|\n",
    "|Task_ID|Integer|\n",
    "|Start_Date|Date|\n",
    "|End_Date|Date|\n",
    "\n",
    "If the End_Date of the tasks are consecutive, then they are part of the same project. Samantha is interested in finding the total number of different projects completed.\n",
    "\n",
    "|Task_ID|Star_Date|End_Date|\n",
    "|---|---|---|\n",
    "|1|2015-10-01|2015-10-02|\n",
    "|2|2015-10-02||\n",
    "|3|2015-10-03||\n",
    "|4|2015-10-13||\n",
    "|5|2015-10-14||\n",
    "|6|2015-10-28||\n",
    "|7|2015-10-30||\n"
   ]
  },
  {
   "cell_type": "markdown",
   "metadata": {},
   "source": [
    "#### QUERY 1: Write a query to output the start and end dates of projects listed by the number of days it took to complete the project in ascending order. If there is more than one project that have the same number of completion days, then order by the start date of the project.\n",
    "`SOLUTION`\n",
    "```SQL\n",
    "SET sql_mode = '';\n",
    "SELECT Start_Date, End_Date\n",
    "FROM \n",
    "    (SELECT Start_Date FROM Projects WHERE Start_Date NOT IN (SELECT End_Date FROM Projects )) a,\n",
    "    (SELECT End_Date FROM Projects WHERE End_Date NOT IN (SELECT Start_Date FROM Projects)) b\n",
    "WHERE Start_Date < End_Date\n",
    "GROUP BY Start_Date\n",
    "ORDER BY DATEDIFF(End_Date,Start_Date) , Start_Date;\n",
    "```\n",
    "```python\n",
    "#OUTPUT\n",
    "2015-10-15 2015-10-16 \n",
    "2015-10-17 2015-10-18 \n",
    "2015-10-19 2015-10-20 \n",
    "2015-10-21 2015-10-22 \n",
    "2015-11-01 2015-11-02 \n",
    "2015-11-17 2015-11-18 \n",
    "2015-10-11 2015-10-13 \n",
    "2015-11-11 2015-11-13 \n",
    "2015-10-01 2015-10-05 \n",
    "2015-11-04 2015-11-08 \n",
    "2015-10-25 2015-10-31\n",
    "\n",
    "```\n"
   ]
  },
  {
   "cell_type": "markdown",
   "metadata": {},
   "source": [
    "## Students, Friends, Packages TABLES\n",
    "You are given three tables: Students, Friends and Packages. Students contains two columns: ID and Name. Friends contains two columns: ID and Friend_ID (ID of the ONLY best friend). Packages contains two columns: ID and Salary (offered salary in $ thousands per month).\n",
    "\n",
    "\n",
    "|Column|Type|\n",
    "|---|---|\n",
    "|ID|Integer|\n",
    "|Name|String|\n",
    "`Students`\n",
    "\n",
    "|Column|Type|\n",
    "|---|---|\n",
    "|ID|Integer|\n",
    "|Friend_ID|Integer|\n",
    "`Friends`\n",
    "\n",
    "|Column|Type|\n",
    "|---|---|\n",
    "|ID|Integer|\n",
    "|Salary|Float|\n",
    "`Packages`\n",
    "\n",
    "#### QUERY: Write a query to output the names of those students whose best friends got offered a higher salary than them. Names must be ordered by the salary amount offered to the best friends. It is guaranteed that no two students got same salary offer.\n",
    "\n",
    "|ID|1|2|3|4|\n",
    "|---|---|---|---|---|\n",
    "|Name|Ashley|Samantha|Julia|Scarlet|\n",
    "|Salary|15.20|10.06|11.55|12.12|\n",
    "|Friend ID|2|3|4|1|\n",
    "|Friend Salary|10.06|11.55|12.12|15.20|"
   ]
  },
  {
   "attachments": {
    "Screen%20Shot%202019-01-25%20at%209.17.50%20PM.png": {
     "image/png": "[encoded data removed]"
    }
   },
   "cell_type": "markdown",
   "metadata": {},
   "source": [
    "![Screen%20Shot%202019-01-25%20at%209.17.50%20PM.png](attachment:Screen%20Shot%202019-01-25%20at%209.17.50%20PM.png)\n",
    "\n",
    "Now,\n",
    "\n",
    "* Samantha's best friend got offered a higher salary than her at 11.55\n",
    "* Julia's best friend got offered a higher salary than her at 12.12\n",
    "* Scarlet's best friend got offered a higher salary than her at 15.2\n",
    "* Ashley's best friend did NOT get offered a higher salary than her\n",
    "* The name output, when ordered by the salary offered to their friends, will be:\n",
    "\n",
    "    * Samantha\n",
    "    * Julia\n",
    "    * Scarlet"
   ]
  },
  {
   "cell_type": "markdown",
   "metadata": {},
   "source": [
    "`SOLUTION`\n",
    "```SQL\n",
    "SELECT S.Name\n",
    "FROM (Students AS S JOIN Friends AS F USING(ID))\n",
    "    JOIN Packages AS P1 ON S.ID = P1.ID\n",
    "    JOIN Packages AS P2 ON F.Friend_ID = P2.ID\n",
    "WHERE P2.Salary > P1.salary  \n",
    "ORDER BY P2.Salary;  \n",
    "```\n",
    "```python\n",
    "#OUTPUT\n",
    "Stuart \n",
    "Priyanka \n",
    "Paige \n",
    "Jane \n",
    "Julia \n",
    "Belvet \n",
    "Amina \n",
    "Kristeen \n",
    "Scarlet \n",
    "Priya \n",
    "Meera \n",
    "```"
   ]
  },
  {
   "cell_type": "markdown",
   "metadata": {},
   "source": [
    "Samantha was tasked with calculating the average monthly salaries for all employees in the EMPLOYEES table, but did not realize her keyboard's  key was broken until after completing the calculation. She wants your help finding the difference between her miscalculation (using salaries with any zeroes removed), and the actual average salary.\n",
    "\n",
    "Write a query calculating the amount of error (i.e.:  average monthly salaries), and round it up to the next integer."
   ]
  },
  {
   "cell_type": "markdown",
   "metadata": {},
   "source": [
    "`SOLUTION`\n",
    "```SQL\n",
    "\n",
    "```\n",
    "```python\n",
    "#OUTPUT\n",
    "\n",
    "```"
   ]
  },
  {
   "cell_type": "code",
   "execution_count": null,
   "metadata": {},
   "outputs": [],
   "source": []
  }
 ],
 "metadata": {
  "kernelspec": {
   "display_name": "Python 3",
   "language": "python",
   "name": "python3"
  },
  "language_info": {
   "codemirror_mode": {
    "name": "ipython",
    "version": 3
   },
   "file_extension": ".py",
   "mimetype": "text/x-python",
   "name": "python",
   "nbconvert_exporter": "python",
   "pygments_lexer": "ipython3",
   "version": "3.7.0"
  }
 },
 "nbformat": 4,
 "nbformat_minor": 2
}
